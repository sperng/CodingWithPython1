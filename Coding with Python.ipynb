{
 "cells": [
  {
   "cell_type": "markdown",
   "metadata": {},
   "source": [
    "# Part 1 - Getting Started"
   ]
  },
  {
   "cell_type": "markdown",
   "metadata": {},
   "source": [
    "## Task 1\n",
    "\n",
    "### https://nbviewer.jupyter.org/gist/greglandrum/4316430 \n",
    "This notebook is called Working with Reactions. It demonstrates how you can model molecules and reactions using their packages. There are also tools to calculate possible reactions and hiearchies of functional reactions. The most interesting part of this notebook are the packages that can produce the geometric visualizations of the molecules. I like seeing how they work within or in tandem with the non-visual functions int he library to create different visuals."
   ]
  },
  {
   "cell_type": "markdown",
   "metadata": {},
   "source": [
    "## Task 2\n",
    "\n",
    "a. One of the most popular python packages is Django. Django is a Python web framework that is fast, secure, and scalable. It handles many of the tedious aspects of web development so that you can focus on writing your app. \n",
    "https://www.djangoproject.com/\n",
    "\n",
    "Another popular package is PyMongo. This package allows you to work with MongoDB, which is a popular NoSQL database. https://api.mongodb.com/python/current/\n",
    "\n",
    "b. Bokeh is a plotting library that is native to Python. It allows you to create interactive plots that can be viewed in the web which is similar to ggplot. http://bokeh.pydata.org/en/latest/\n",
    "\n",
    "c. Python panda is a Python Library that provides data manipulation and analysis on structures like dataframes. https://www.tutorialspoint.com/python_pandas/python_pandas_introduction.htm"
   ]
  },
  {
   "cell_type": "markdown",
   "metadata": {},
   "source": [
    "## Task 3\n",
    "\n",
    "Differences in Syntax \n",
    "1. Python is object oriented unlike R\n",
    "2. Every variable in Python is an object\n",
    "3. You declare functions with def rather than function"
   ]
  },
  {
   "cell_type": "markdown",
   "metadata": {},
   "source": [
    "# Part 2 - String and Basic Syntax"
   ]
  },
  {
   "cell_type": "markdown",
   "metadata": {},
   "source": [
    "## Task 4"
   ]
  },
  {
   "cell_type": "code",
   "execution_count": 2,
   "metadata": {},
   "outputs": [
    {
     "name": "stdout",
     "output_type": "stream",
     "text": [
      "truck bus convertible.\n"
     ]
    }
   ],
   "source": [
    "x = \"truck\"\n",
    "y = \"bus\"\n",
    "z = \"convertible\"\n",
    "\n",
    "print x,y,z + \".\""
   ]
  },
  {
   "cell_type": "markdown",
   "metadata": {},
   "source": [
    "## Task 5"
   ]
  },
  {
   "cell_type": "code",
   "execution_count": 3,
   "metadata": {},
   "outputs": [
    {
     "name": "stdout",
     "output_type": "stream",
     "text": [
      "truck bus convertible 8.\n",
      "TRUCK BUS CONVERTIBLE 8.\n"
     ]
    }
   ],
   "source": [
    "num = 8\n",
    "\n",
    "s = x + \" \" + y + \" \" + z + \" \" + str(num) + \".\"\n",
    "\n",
    "print s\n",
    "print s.upper()\n"
   ]
  },
  {
   "cell_type": "markdown",
   "metadata": {},
   "source": [
    "## Task 6"
   ]
  },
  {
   "cell_type": "code",
   "execution_count": 26,
   "metadata": {},
   "outputs": [
    {
     "data": {
      "text/plain": [
       "2"
      ]
     },
     "execution_count": 26,
     "metadata": {},
     "output_type": "execute_result"
    }
   ],
   "source": [
    "l = list(s.upper())\n",
    "joinedL =  ''.join(l)\n",
    "\n",
    "joinedL.count(\"E\")"
   ]
  },
  {
   "cell_type": "code",
   "execution_count": 30,
   "metadata": {},
   "outputs": [
    {
     "data": {
      "text/plain": [
       "6"
      ]
     },
     "execution_count": 30,
     "metadata": {},
     "output_type": "execute_result"
    }
   ],
   "source": [
    "joinedL.find(\"BUS\")"
   ]
  },
  {
   "cell_type": "markdown",
   "metadata": {},
   "source": [
    "## Task 7"
   ]
  },
  {
   "cell_type": "code",
   "execution_count": 33,
   "metadata": {},
   "outputs": [
    {
     "name": "stdout",
     "output_type": "stream",
     "text": [
      "TRUCK BUS CO\n"
     ]
    }
   ],
   "source": [
    "print joinedL[:len(joinedL)/2]"
   ]
  },
  {
   "cell_type": "markdown",
   "metadata": {},
   "source": [
    "## Task 8"
   ]
  },
  {
   "cell_type": "code",
   "execution_count": 52,
   "metadata": {},
   "outputs": [
    {
     "name": "stdout",
     "output_type": "stream",
     "text": [
      "MONSTER TRUCK BUS CONVERTIBLE \n"
     ]
    }
   ],
   "source": [
    "print joinedL.strip(\"8.\").replace(\"TRUCK\", \"MONSTER TRUCK\")\n"
   ]
  },
  {
   "cell_type": "markdown",
   "metadata": {},
   "source": [
    "## Task 9"
   ]
  },
  {
   "cell_type": "code",
   "execution_count": 61,
   "metadata": {},
   "outputs": [
    {
     "name": "stdout",
     "output_type": "stream",
     "text": [
      "['TRUCK', 'BUS', 'HAM', 'CONVERTIBLE', '8.']\n"
     ]
    }
   ],
   "source": [
    "newL = joinedL.split()\n",
    "newL.insert(2, \"HAM\")\n",
    "print newL"
   ]
  },
  {
   "cell_type": "markdown",
   "metadata": {},
   "source": [
    "# Part 3 - Conditionals\n",
    "## Task 10"
   ]
  },
  {
   "cell_type": "code",
   "execution_count": 93,
   "metadata": {},
   "outputs": [
    {
     "name": "stdout",
     "output_type": "stream",
     "text": [
      "3 1st Quartile\n"
     ]
    }
   ],
   "source": [
    "import random\n",
    "x = random.randint(1,100)\n",
    "\n",
    "\n",
    "if x <= 25:\n",
    "    print str(x) + \" 1st Quartile\"\n",
    "elif x <= 50:\n",
    "    print str(x) + \" 2nd Quartile\"\n",
    "elif x <= 75:\n",
    "    print str(x) + \" 3rd Quartile\"\n",
    "else:\n",
    "    print str(x) + \" 4th Quartile\""
   ]
  },
  {
   "cell_type": "markdown",
   "metadata": {},
   "source": [
    "# Part 4 - Loops\n",
    "## Task 11"
   ]
  },
  {
   "cell_type": "code",
   "execution_count": 96,
   "metadata": {},
   "outputs": [
    {
     "name": "stdout",
     "output_type": "stream",
     "text": [
      "Warning, residents of Seattle, temperatures will reach sub-zero temperatures today, so please stay indoors if possible\n",
      "Warning, residents of Portland, temperatures will reach sub-zero temperatures today, so please stay indoors if possible\n",
      "Warning, residents of San Diego, temperatures will reach sub-zero temperatures today, so please stay indoors if possible\n",
      "Warning, residents of Las Vegas, temperatures will reach sub-zero temperatures today, so please stay indoors if possible\n",
      "Warning, residents of Phoenix, temperatures will reach sub-zero temperatures today, so please stay indoors if possible\n",
      "Warning, residents of Beaverton, temperatures will reach sub-zero temperatures today, so please stay indoors if possible\n"
     ]
    }
   ],
   "source": [
    "cities = \"Seattle\", \"Portland\", \"San Diego\", \"Las Vegas\", \"Phoenix\", \"Beaverton\"\n",
    "for city in cities:\n",
    "    print \"Warning, residents of \" + city + \", temperatures will reach sub-zero temperatures today, so please stay indoors if possible\""
   ]
  },
  {
   "cell_type": "markdown",
   "metadata": {},
   "source": [
    "## Task 12"
   ]
  },
  {
   "cell_type": "code",
   "execution_count": 101,
   "metadata": {},
   "outputs": [
    {
     "name": "stdout",
     "output_type": "stream",
     "text": [
      "U://Users/Perng/Geog_458/Seattle.shp\n",
      "U://Users/Perng/Geog_458/Portland.shp\n",
      "U://Users/Perng/Geog_458/San Diego.shp\n",
      "U://Users/Perng/Geog_458/Las Vegas.shp\n",
      "U://Users/Perng/Geog_458/Phoenix.shp\n",
      "U://Users/Perng/Geog_458/Beaverton.shp\n"
     ]
    }
   ],
   "source": [
    "listcities = []\n",
    "\n",
    "for index in range(len(cities)):\n",
    "    listcities.insert(index ,\"U://Users/Perng/Geog_458/\" + cities[index] + \".shp\")\n",
    "    print listcities[index]"
   ]
  },
  {
   "cell_type": "markdown",
   "metadata": {},
   "source": [
    "## Task 13"
   ]
  },
  {
   "cell_type": "code",
   "execution_count": 106,
   "metadata": {},
   "outputs": [
    {
     "name": "stdout",
     "output_type": "stream",
     "text": [
      "T-minus 10\n",
      "T-minus 9\n",
      "T-minus 8\n",
      "T-minus 7\n",
      "T-minus 6\n",
      "T-minus 5\n",
      "T-minus 4\n",
      "T-minus 3\n",
      "T-minus 2\n",
      "T-minus 1\n",
      "T-minus 0\n"
     ]
    }
   ],
   "source": [
    "count = 10\n",
    "while (count >= 0):\n",
    "    print \"T-minus \" + str(count)\n",
    "    count -=1"
   ]
  },
  {
   "cell_type": "markdown",
   "metadata": {},
   "source": [
    "# Part 5 - Functions\n",
    "## Task 13"
   ]
  },
  {
   "cell_type": "code",
   "execution_count": 107,
   "metadata": {},
   "outputs": [
    {
     "name": "stdout",
     "output_type": "stream",
     "text": [
      "T-minus 8\n",
      "T-minus 7\n",
      "T-minus 6\n",
      "T-minus 5\n",
      "T-minus 4\n",
      "T-minus 3\n",
      "T-minus 2\n",
      "T-minus 1\n",
      "T-minus 0\n"
     ]
    }
   ],
   "source": [
    "def countdown(start):\n",
    "    while (start >= 0):\n",
    "        print \"T-minus \" + str(start)\n",
    "        start -=1\n",
    "countdown(8)"
   ]
  },
  {
   "cell_type": "markdown",
   "metadata": {},
   "source": [
    "## Task 14"
   ]
  },
  {
   "cell_type": "code",
   "execution_count": 115,
   "metadata": {},
   "outputs": [
    {
     "name": "stdout",
     "output_type": "stream",
     "text": [
      "Error\n",
      "Error\n",
      "0 1st Quartile\n",
      "100 4th Quartile\n"
     ]
    }
   ],
   "source": [
    "def quartile_calc(num):\n",
    "    if num < 0 or num > 100:\n",
    "        print \"Error\"\n",
    "    elif num <= 25:\n",
    "        print str(num) + \" 1st Quartile\"\n",
    "    elif num <= 50:\n",
    "        print str(num) + \" 2nd Quartile\"\n",
    "    elif num <= 75:\n",
    "        print str(num) + \" 3rd Quartile\"\n",
    "    else:\n",
    "        print str(num) + \" 4th Quartile\"\n",
    "\n",
    "quartile_calc(-2)\n",
    "quartile_calc(101)\n",
    "quartile_calc(0)\n",
    "quartile_calc(100)\n",
    "        "
   ]
  },
  {
   "cell_type": "code",
   "execution_count": null,
   "metadata": {},
   "outputs": [],
   "source": []
  }
 ],
 "metadata": {
  "kernelspec": {
   "display_name": "Python 2",
   "language": "python",
   "name": "python2"
  },
  "language_info": {
   "codemirror_mode": {
    "name": "ipython",
    "version": 2
   },
   "file_extension": ".py",
   "mimetype": "text/x-python",
   "name": "python",
   "nbconvert_exporter": "python",
   "pygments_lexer": "ipython2",
   "version": "2.7.15"
  }
 },
 "nbformat": 4,
 "nbformat_minor": 2
}
